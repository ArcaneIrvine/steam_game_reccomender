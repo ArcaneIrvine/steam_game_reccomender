{
 "cells": [
  {
   "attachments": {},
   "cell_type": "markdown",
   "metadata": {},
   "source": [
    "#### Import dependencies"
   ]
  },
  {
   "cell_type": "code",
   "execution_count": 13,
   "metadata": {},
   "outputs": [],
   "source": [
    "# import dependencies\n",
    "import json\n",
    "import os\n",
    "import time\n",
    "import pandas as pd\n",
    "from steam import Steam\n",
    "from decouple import config\n",
    "from dotenv import load_dotenv\n",
    "\n",
    "# Load .env file\n",
    "load_dotenv('.env')\n",
    "\n",
    "# Get the Steam Web API key\n",
    "KEY = os.getenv(\"STEAM_API_KEY\")\n",
    "steam = Steam(KEY)"
   ]
  },
  {
   "attachments": {},
   "cell_type": "markdown",
   "metadata": {},
   "source": [
    "#### Load IDs dataset"
   ]
  },
  {
   "cell_type": "code",
   "execution_count": 14,
   "metadata": {},
   "outputs": [
    {
     "data": {
      "text/html": [
       "<div>\n",
       "<style scoped>\n",
       "    .dataframe tbody tr th:only-of-type {\n",
       "        vertical-align: middle;\n",
       "    }\n",
       "\n",
       "    .dataframe tbody tr th {\n",
       "        vertical-align: top;\n",
       "    }\n",
       "\n",
       "    .dataframe thead th {\n",
       "        text-align: right;\n",
       "    }\n",
       "</style>\n",
       "<table border=\"1\" class=\"dataframe\">\n",
       "  <thead>\n",
       "    <tr style=\"text-align: right;\">\n",
       "      <th></th>\n",
       "      <th>Steam_ID</th>\n",
       "    </tr>\n",
       "  </thead>\n",
       "  <tbody>\n",
       "    <tr>\n",
       "      <th>0</th>\n",
       "      <td>76561198327129152</td>\n",
       "    </tr>\n",
       "    <tr>\n",
       "      <th>1</th>\n",
       "      <td>76561198327129174</td>\n",
       "    </tr>\n",
       "    <tr>\n",
       "      <th>2</th>\n",
       "      <td>76561198327129177</td>\n",
       "    </tr>\n",
       "    <tr>\n",
       "      <th>3</th>\n",
       "      <td>76561198327129194</td>\n",
       "    </tr>\n",
       "    <tr>\n",
       "      <th>4</th>\n",
       "      <td>76561198327129237</td>\n",
       "    </tr>\n",
       "  </tbody>\n",
       "</table>\n",
       "</div>"
      ],
      "text/plain": [
       "            Steam_ID\n",
       "0  76561198327129152\n",
       "1  76561198327129174\n",
       "2  76561198327129177\n",
       "3  76561198327129194\n",
       "4  76561198327129237"
      ]
     },
     "execution_count": 14,
     "metadata": {},
     "output_type": "execute_result"
    }
   ],
   "source": [
    "# load dataset and skip the first line\n",
    "IDs = pd.read_csv('data/10kreps_IDs.csv')\n",
    "IDs.head()"
   ]
  },
  {
   "attachments": {},
   "cell_type": "markdown",
   "metadata": {},
   "source": [
    "#### Get user's games"
   ]
  },
  {
   "cell_type": "code",
   "execution_count": null,
   "metadata": {},
   "outputs": [],
   "source": [
    "# Dictionary to track user-game ownership\n",
    "user_games = {}\n",
    "\n",
    "# Iterate over each user ID\n",
    "for id in IDs['Steam_ID']:\n",
    "    user_games[id] = []  # Initialize an empty list for each user ID\n",
    "    \n",
    "    # Get the list of games owned by the user\n",
    "    owned_games = steam.users.get_owned_games(id)\n",
    "    \n",
    "    # Iterate over each game in the owned games list\n",
    "    for game in owned_games['games']:\n",
    "        game_id = game['appid']\n",
    "        user_games[id].append(game_id)  # Add the game ID to the user's list of owned games\n",
    "        \n",
    "    time.sleep(1)  # Delay for 1 second between API calls\n",
    "\n",
    "\"\"\"\n",
    "# Print the user-game ownership\n",
    "for id, games in user_games.items():\n",
    "    print(f\"User {id} owns: {games}\")\n",
    "\"\"\""
   ]
  },
  {
   "attachments": {},
   "cell_type": "markdown",
   "metadata": {},
   "source": [
    "#### Save a json file with the users and their owned games"
   ]
  },
  {
   "cell_type": "code",
   "execution_count": 16,
   "metadata": {},
   "outputs": [],
   "source": [
    "# Export the user-game ownership to a JSON file\n",
    "with open('data/user_games.json', 'w') as file:\n",
    "    json.dump(user_games, file)"
   ]
  }
 ],
 "metadata": {
  "kernelspec": {
   "display_name": "SGR",
   "language": "python",
   "name": "python3"
  },
  "language_info": {
   "codemirror_mode": {
    "name": "ipython",
    "version": 3
   },
   "file_extension": ".py",
   "mimetype": "text/x-python",
   "name": "python",
   "nbconvert_exporter": "python",
   "pygments_lexer": "ipython3",
   "version": "3.9.4"
  },
  "orig_nbformat": 4
 },
 "nbformat": 4,
 "nbformat_minor": 2
}
